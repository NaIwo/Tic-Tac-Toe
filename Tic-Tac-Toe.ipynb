{
 "cells": [
  {
   "cell_type": "code",
   "execution_count": 1,
   "metadata": {},
   "outputs": [],
   "source": [
    "import tensorflow as tf\n",
    "from tensorflow import keras\n",
    "import numpy as np\n",
    "import pandas as pd\n",
    "import matplotlib.pyplot as plt\n",
    "import os"
   ]
  },
  {
   "cell_type": "markdown",
   "metadata": {},
   "source": [
    "# Create Tic-Tac-Toe smart player with fully connected dense layers"
   ]
  },
  {
   "cell_type": "markdown",
   "metadata": {},
   "source": [
    "Yeah, it's a little bit overkill, but i thought that it would be nice task to practice and have fun ;)"
   ]
  },
  {
   "cell_type": "code",
   "execution_count": 2,
   "metadata": {},
   "outputs": [],
   "source": [
    "\"\"\"Check winner\"\"\"\n",
    "def check_board(board):\n",
    "    win_x = np.array([1, 1, 1])\n",
    "    win_o = np.array([-1, -1, -1])\n",
    "    for _ in range(4):\n",
    "        if (board[0] == win_x).all() or (board[1] == win_x).all() or ([board[0][0], board[1][1], board[2][2]] == win_x).all():\n",
    "            return 1\n",
    "        if (board[0] == win_o).all() or (board[1] == win_o).all() or ([board[0][0], board[1][1], board[2][2]] == win_o).all():\n",
    "            return -1\n",
    "        \n",
    "        board = np.rot90(board)\n",
    "    return 0"
   ]
  },
  {
   "cell_type": "code",
   "execution_count": 3,
   "metadata": {},
   "outputs": [],
   "source": [
    "\"\"\"\n",
    "Create random games to make dataset\n",
    "\"\"\"\n",
    "import copy\n",
    "def crate_dataset(size):\n",
    "    dataset = []\n",
    "    played = 0\n",
    "    while played < size:\n",
    "        game = []\n",
    "        board = np.zeros(shape = (3,3))\n",
    "        [turn] = np.random.randint(0, 2, 1)\n",
    "        turn = -1 if turn == 0 else 1\n",
    "        rows, cols = np.where(board == 0)\n",
    "        possible_moves = np.concatenate((rows.reshape(-1,1), cols.reshape(-1,1)), axis = 1)\n",
    "        while possible_moves.shape[0] != 0:\n",
    "            [move] = np.random.randint(0, possible_moves.shape[0], 1)\n",
    "            board[possible_moves[move][0]][possible_moves[move][1]] = turn\n",
    "            turn = -turn \n",
    "            rows, cols = np.where(board == 0)\n",
    "            possible_moves = np.concatenate((rows.reshape(-1,1), cols.reshape(-1,1)), axis = 1)\n",
    "            game.append(board.astype(np.int32).tolist())\n",
    "            winner = check_board(copy.deepcopy(board))\n",
    "            if winner != 0:\n",
    "                break\n",
    "        if game not in dataset:\n",
    "            played += 1\n",
    "            dataset.append([(line, winner) for line in game])\n",
    "    final_moves = []\n",
    "    final_target = []\n",
    "    for game in dataset:\n",
    "        for move in game:\n",
    "            final_moves.append(move[0])\n",
    "            final_target.append(move[1])\n",
    "    random = np.random.permutation(range(np.shape(final_moves)[0]))\n",
    "    return np.array(final_moves)[random.astype(int)], np.array(final_target)[random.astype(int)].reshape(-1,1), dataset"
   ]
  },
  {
   "cell_type": "code",
   "execution_count": 4,
   "metadata": {},
   "outputs": [],
   "source": [
    "X, y, game_dataset = crate_dataset(2000)"
   ]
  },
  {
   "cell_type": "code",
   "execution_count": null,
   "metadata": {},
   "outputs": [],
   "source": [
    "size = np.shape(X)[0] * 80 // 100"
   ]
  },
  {
   "cell_type": "code",
   "execution_count": null,
   "metadata": {},
   "outputs": [],
   "source": [
    "train = tf.data.Dataset.from_tensor_slices((X[:size], y[:size] + [1])).shuffle(800).batch(32).prefetch(1)\n",
    "valid = tf.data.Dataset.from_tensor_slices((X[size:], y[size:] + [1])).batch(np.shape(X[size:])[0]).prefetch(1)"
   ]
  },
  {
   "cell_type": "code",
   "execution_count": null,
   "metadata": {},
   "outputs": [],
   "source": [
    "smart_player = keras.models.Sequential([\n",
    "    keras.layers.Flatten(input_shape=[3,3]),\n",
    "    keras.layers.Dense(450, activation = 'selu', input_shape = [9], \n",
    "                       kernel_constraint=keras.constraints.max_norm(2.)),\n",
    "    keras.layers.Dropout(0.4),\n",
    "    keras.layers.Dense(300, activation = 'selu', \n",
    "                       kernel_constraint=keras.constraints.max_norm(2.)),\n",
    "    keras.layers.Dropout(0.4),\n",
    "    keras.layers.Dense(150, activation = 'selu'),\n",
    "    keras.layers.Dropout(0.2),\n",
    "    keras.layers.Dense(50, activation = 'selu'),\n",
    "    keras.layers.Dropout(0.2),\n",
    "    keras.layers.Dense(20, activation = 'selu'),\n",
    "    keras.layers.Dense(3, activation = 'softmax')\n",
    "])"
   ]
  },
  {
   "cell_type": "code",
   "execution_count": 275,
   "metadata": {},
   "outputs": [],
   "source": [
    "smart_player.compile(loss = 'sparse_categorical_crossentropy', \n",
    "                     optimizer = keras.optimizers.SGD(lr = 0.01, momentum = 0.9, nesterov = True),\n",
    "                     metrics = ['accuracy'])"
   ]
  },
  {
   "cell_type": "code",
   "execution_count": 276,
   "metadata": {},
   "outputs": [],
   "source": [
    "early_stopping = keras.callbacks.EarlyStopping(patience=15, restore_best_weights=True)"
   ]
  },
  {
   "cell_type": "code",
   "execution_count": 277,
   "metadata": {
    "scrolled": true
   },
   "outputs": [
    {
     "name": "stdout",
     "output_type": "stream",
     "text": [
      "Epoch 1/100\n",
      "383/383 [==============================] - 3s 8ms/step - loss: 0.9852 - accuracy: 0.5165 - val_loss: 0.0000e+00 - val_accuracy: 0.0000e+00\n",
      "Epoch 2/100\n",
      "383/383 [==============================] - 2s 5ms/step - loss: 0.9214 - accuracy: 0.5551 - val_loss: 0.8677 - val_accuracy: 0.5755\n",
      "Epoch 3/100\n",
      "383/383 [==============================] - 2s 5ms/step - loss: 0.9137 - accuracy: 0.5526 - val_loss: 0.8770 - val_accuracy: 0.5752\n",
      "Epoch 4/100\n",
      "383/383 [==============================] - 2s 5ms/step - loss: 0.9039 - accuracy: 0.5621 - val_loss: 0.8706 - val_accuracy: 0.5818\n",
      "Epoch 5/100\n",
      "383/383 [==============================] - 2s 5ms/step - loss: 0.8956 - accuracy: 0.5706 - val_loss: 0.8608 - val_accuracy: 0.5821\n",
      "Epoch 6/100\n",
      "383/383 [==============================] - 2s 5ms/step - loss: 0.8947 - accuracy: 0.5654 - val_loss: 0.8541 - val_accuracy: 0.5883\n",
      "Epoch 7/100\n",
      "383/383 [==============================] - 2s 5ms/step - loss: 0.8915 - accuracy: 0.5634 - val_loss: 0.8705 - val_accuracy: 0.5716\n",
      "Epoch 8/100\n",
      "383/383 [==============================] - 2s 5ms/step - loss: 0.8901 - accuracy: 0.5724 - val_loss: 0.9080 - val_accuracy: 0.5687\n",
      "Epoch 9/100\n",
      "383/383 [==============================] - 2s 5ms/step - loss: 0.8826 - accuracy: 0.5723 - val_loss: 0.8320 - val_accuracy: 0.6112\n",
      "Epoch 10/100\n",
      "383/383 [==============================] - 2s 5ms/step - loss: 0.8767 - accuracy: 0.5779 - val_loss: 0.8563 - val_accuracy: 0.5981\n",
      "Epoch 11/100\n",
      "383/383 [==============================] - 2s 5ms/step - loss: 0.8783 - accuracy: 0.5778 - val_loss: 0.8412 - val_accuracy: 0.5939\n",
      "Epoch 12/100\n",
      "383/383 [==============================] - ETA: 0s - loss: 0.8718 - accuracy: 0.57 - 2s 5ms/step - loss: 0.8719 - accuracy: 0.5793 - val_loss: 0.8204 - val_accuracy: 0.6105\n",
      "Epoch 13/100\n",
      "383/383 [==============================] - 2s 5ms/step - loss: 0.8698 - accuracy: 0.5806 - val_loss: 0.8456 - val_accuracy: 0.5988\n",
      "Epoch 14/100\n",
      "383/383 [==============================] - 2s 5ms/step - loss: 0.8661 - accuracy: 0.5845 - val_loss: 0.8337 - val_accuracy: 0.5988\n",
      "Epoch 15/100\n",
      "383/383 [==============================] - 2s 5ms/step - loss: 0.8685 - accuracy: 0.5861 - val_loss: 0.8275 - val_accuracy: 0.6076\n",
      "Epoch 16/100\n",
      "383/383 [==============================] - 2s 5ms/step - loss: 0.8604 - accuracy: 0.5904 - val_loss: 0.8440 - val_accuracy: 0.5935\n",
      "Epoch 17/100\n",
      "383/383 [==============================] - 2s 5ms/step - loss: 0.8609 - accuracy: 0.5881 - val_loss: 0.8352 - val_accuracy: 0.6027\n",
      "Epoch 18/100\n",
      "383/383 [==============================] - 2s 5ms/step - loss: 0.8579 - accuracy: 0.5873 - val_loss: 0.8269 - val_accuracy: 0.6184\n",
      "Epoch 19/100\n",
      "383/383 [==============================] - 2s 5ms/step - loss: 0.8575 - accuracy: 0.5905 - val_loss: 0.8097 - val_accuracy: 0.6115\n",
      "Epoch 20/100\n",
      "383/383 [==============================] - 2s 5ms/step - loss: 0.8542 - accuracy: 0.5948 - val_loss: 0.8251 - val_accuracy: 0.6099\n",
      "Epoch 21/100\n",
      "383/383 [==============================] - 2s 5ms/step - loss: 0.8523 - accuracy: 0.5926 - val_loss: 0.8415 - val_accuracy: 0.5961\n",
      "Epoch 22/100\n",
      "383/383 [==============================] - 2s 5ms/step - loss: 0.8488 - accuracy: 0.5957 - val_loss: 0.8172 - val_accuracy: 0.6056\n",
      "Epoch 23/100\n",
      "383/383 [==============================] - 2s 6ms/step - loss: 0.8471 - accuracy: 0.6037 - val_loss: 0.8259 - val_accuracy: 0.6102\n",
      "Epoch 24/100\n",
      "383/383 [==============================] - 2s 5ms/step - loss: 0.8466 - accuracy: 0.5980 - val_loss: 0.7982 - val_accuracy: 0.6226\n",
      "Epoch 25/100\n",
      "383/383 [==============================] - 2s 5ms/step - loss: 0.8433 - accuracy: 0.6038 - val_loss: 0.7969 - val_accuracy: 0.6203\n",
      "Epoch 26/100\n",
      "383/383 [==============================] - 2s 5ms/step - loss: 0.8333 - accuracy: 0.6094 - val_loss: 0.7908 - val_accuracy: 0.6331\n",
      "Epoch 27/100\n",
      "383/383 [==============================] - 2s 5ms/step - loss: 0.8452 - accuracy: 0.6005 - val_loss: 0.7896 - val_accuracy: 0.6295\n",
      "Epoch 28/100\n",
      "383/383 [==============================] - 2s 5ms/step - loss: 0.8326 - accuracy: 0.6048 - val_loss: 0.7984 - val_accuracy: 0.6207\n",
      "Epoch 29/100\n",
      "383/383 [==============================] - 2s 5ms/step - loss: 0.8379 - accuracy: 0.6061 - val_loss: 0.8037 - val_accuracy: 0.6053\n",
      "Epoch 30/100\n",
      "383/383 [==============================] - 2s 5ms/step - loss: 0.8398 - accuracy: 0.6044 - val_loss: 0.7910 - val_accuracy: 0.6239\n",
      "Epoch 31/100\n",
      "383/383 [==============================] - ETA: 0s - loss: 0.8334 - accuracy: 0.60 - 2s 5ms/step - loss: 0.8349 - accuracy: 0.6022 - val_loss: 0.7686 - val_accuracy: 0.6344\n",
      "Epoch 32/100\n",
      "383/383 [==============================] - 2s 5ms/step - loss: 0.8344 - accuracy: 0.6029 - val_loss: 0.7976 - val_accuracy: 0.6210\n",
      "Epoch 33/100\n",
      "383/383 [==============================] - 2s 5ms/step - loss: 0.8276 - accuracy: 0.6130 - val_loss: 0.7857 - val_accuracy: 0.6207\n",
      "Epoch 34/100\n",
      "383/383 [==============================] - 2s 5ms/step - loss: 0.8282 - accuracy: 0.6139 - val_loss: 0.7867 - val_accuracy: 0.6246\n",
      "Epoch 35/100\n",
      "383/383 [==============================] - 2s 5ms/step - loss: 0.8320 - accuracy: 0.6070 - val_loss: 0.7806 - val_accuracy: 0.6354\n",
      "Epoch 36/100\n",
      "383/383 [==============================] - 2s 5ms/step - loss: 0.8289 - accuracy: 0.6083 - val_loss: 0.7723 - val_accuracy: 0.6367\n",
      "Epoch 37/100\n",
      "383/383 [==============================] - 2s 5ms/step - loss: 0.8206 - accuracy: 0.6093 - val_loss: 0.7774 - val_accuracy: 0.6279\n",
      "Epoch 38/100\n",
      "383/383 [==============================] - 2s 5ms/step - loss: 0.8230 - accuracy: 0.6161 - val_loss: 0.7813 - val_accuracy: 0.6328\n",
      "Epoch 39/100\n",
      "383/383 [==============================] - 2s 5ms/step - loss: 0.8254 - accuracy: 0.6118 - val_loss: 0.7721 - val_accuracy: 0.6321\n",
      "Epoch 40/100\n",
      "383/383 [==============================] - 2s 5ms/step - loss: 0.8245 - accuracy: 0.6114 - val_loss: 0.7819 - val_accuracy: 0.6272\n",
      "Epoch 41/100\n",
      "383/383 [==============================] - 2s 5ms/step - loss: 0.8213 - accuracy: 0.6159 - val_loss: 0.7793 - val_accuracy: 0.6337\n",
      "Epoch 42/100\n",
      "383/383 [==============================] - 2s 5ms/step - loss: 0.8178 - accuracy: 0.6165 - val_loss: 0.7658 - val_accuracy: 0.6406\n",
      "Epoch 43/100\n",
      "383/383 [==============================] - 2s 5ms/step - loss: 0.8189 - accuracy: 0.6166 - val_loss: 0.7743 - val_accuracy: 0.6347\n",
      "Epoch 44/100\n",
      "383/383 [==============================] - 2s 5ms/step - loss: 0.8178 - accuracy: 0.6178 - val_loss: 0.8037 - val_accuracy: 0.6141\n",
      "Epoch 45/100\n",
      "383/383 [==============================] - 2s 5ms/step - loss: 0.8148 - accuracy: 0.6242 - val_loss: 0.7926 - val_accuracy: 0.6115\n",
      "Epoch 46/100\n",
      "383/383 [==============================] - 2s 5ms/step - loss: 0.8149 - accuracy: 0.6157 - val_loss: 0.7705 - val_accuracy: 0.6387\n",
      "Epoch 47/100\n",
      "383/383 [==============================] - 2s 5ms/step - loss: 0.8183 - accuracy: 0.6150 - val_loss: 0.7736 - val_accuracy: 0.6285\n",
      "Epoch 48/100\n",
      "383/383 [==============================] - 2s 5ms/step - loss: 0.8116 - accuracy: 0.6170 - val_loss: 0.8055 - val_accuracy: 0.6112\n",
      "Epoch 49/100\n",
      "383/383 [==============================] - 2s 5ms/step - loss: 0.8130 - accuracy: 0.6175 - val_loss: 0.7781 - val_accuracy: 0.6315\n",
      "Epoch 50/100\n",
      "383/383 [==============================] - 2s 5ms/step - loss: 0.8116 - accuracy: 0.6171 - val_loss: 0.7731 - val_accuracy: 0.6230\n",
      "Epoch 51/100\n",
      "383/383 [==============================] - 2s 5ms/step - loss: 0.8107 - accuracy: 0.6194 - val_loss: 0.8122 - val_accuracy: 0.5971\n",
      "Epoch 52/100\n",
      "383/383 [==============================] - 2s 5ms/step - loss: 0.8100 - accuracy: 0.6226 - val_loss: 0.7516 - val_accuracy: 0.6442\n",
      "Epoch 53/100\n",
      "383/383 [==============================] - 2s 5ms/step - loss: 0.8070 - accuracy: 0.6207 - val_loss: 0.7681 - val_accuracy: 0.6406\n",
      "Epoch 54/100\n",
      "383/383 [==============================] - 2s 5ms/step - loss: 0.8042 - accuracy: 0.6204 - val_loss: 0.7572 - val_accuracy: 0.6419\n",
      "Epoch 55/100\n",
      "383/383 [==============================] - 2s 5ms/step - loss: 0.8108 - accuracy: 0.6178 - val_loss: 0.7593 - val_accuracy: 0.6413\n",
      "Epoch 56/100\n",
      "383/383 [==============================] - 2s 5ms/step - loss: 0.8044 - accuracy: 0.6218 - val_loss: 0.7936 - val_accuracy: 0.6167\n",
      "Epoch 57/100\n",
      "383/383 [==============================] - 2s 5ms/step - loss: 0.7991 - accuracy: 0.6270 - val_loss: 0.7872 - val_accuracy: 0.6203\n",
      "Epoch 58/100\n",
      "383/383 [==============================] - 2s 5ms/step - loss: 0.8050 - accuracy: 0.6195 - val_loss: 0.7554 - val_accuracy: 0.6439\n",
      "Epoch 59/100\n",
      "383/383 [==============================] - 2s 5ms/step - loss: 0.8096 - accuracy: 0.6199 - val_loss: 0.7910 - val_accuracy: 0.6249\n",
      "Epoch 60/100\n",
      "383/383 [==============================] - 2s 5ms/step - loss: 0.7965 - accuracy: 0.6307 - val_loss: 0.8222 - val_accuracy: 0.6004\n",
      "Epoch 61/100\n",
      "383/383 [==============================] - 2s 5ms/step - loss: 0.7980 - accuracy: 0.6290 - val_loss: 0.7697 - val_accuracy: 0.6360\n",
      "Epoch 62/100\n",
      "383/383 [==============================] - 2s 5ms/step - loss: 0.7981 - accuracy: 0.6221 - val_loss: 0.7461 - val_accuracy: 0.6445\n",
      "Epoch 63/100\n",
      "383/383 [==============================] - 2s 5ms/step - loss: 0.7965 - accuracy: 0.6258 - val_loss: 0.7537 - val_accuracy: 0.6455\n",
      "Epoch 64/100\n",
      "383/383 [==============================] - 2s 5ms/step - loss: 0.7966 - accuracy: 0.6273 - val_loss: 0.7476 - val_accuracy: 0.6449\n",
      "Epoch 65/100\n",
      "383/383 [==============================] - 2s 5ms/step - loss: 0.8009 - accuracy: 0.6208 - val_loss: 0.7664 - val_accuracy: 0.6367\n",
      "Epoch 66/100\n",
      "383/383 [==============================] - 2s 5ms/step - loss: 0.7985 - accuracy: 0.6212 - val_loss: 0.7619 - val_accuracy: 0.6409\n",
      "Epoch 67/100\n",
      "383/383 [==============================] - 2s 5ms/step - loss: 0.7938 - accuracy: 0.6245 - val_loss: 0.7612 - val_accuracy: 0.6328\n",
      "Epoch 68/100\n",
      "383/383 [==============================] - 2s 5ms/step - loss: 0.7951 - accuracy: 0.6274 - val_loss: 0.7917 - val_accuracy: 0.6151\n",
      "Epoch 69/100\n",
      "383/383 [==============================] - 2s 5ms/step - loss: 0.8003 - accuracy: 0.6228 - val_loss: 0.7860 - val_accuracy: 0.6239\n",
      "Epoch 70/100\n",
      "383/383 [==============================] - 2s 5ms/step - loss: 0.7971 - accuracy: 0.6217 - val_loss: 0.7554 - val_accuracy: 0.6445\n",
      "Epoch 71/100\n",
      "383/383 [==============================] - 2s 5ms/step - loss: 0.8031 - accuracy: 0.6253 - val_loss: 0.7485 - val_accuracy: 0.6367\n",
      "Epoch 72/100\n",
      "383/383 [==============================] - 2s 5ms/step - loss: 0.7879 - accuracy: 0.6289 - val_loss: 0.7553 - val_accuracy: 0.6377\n",
      "Epoch 73/100\n",
      "383/383 [==============================] - 2s 5ms/step - loss: 0.7972 - accuracy: 0.6273 - val_loss: 0.7649 - val_accuracy: 0.6324\n",
      "Epoch 74/100\n",
      "383/383 [==============================] - 2s 5ms/step - loss: 0.7920 - accuracy: 0.6292 - val_loss: 0.7693 - val_accuracy: 0.6334\n",
      "Epoch 75/100\n",
      "383/383 [==============================] - 2s 5ms/step - loss: 0.7934 - accuracy: 0.6238 - val_loss: 0.7751 - val_accuracy: 0.6249\n",
      "Epoch 76/100\n",
      "383/383 [==============================] - 2s 5ms/step - loss: 0.7866 - accuracy: 0.6306 - val_loss: 0.7554 - val_accuracy: 0.6377\n",
      "Epoch 77/100\n",
      "383/383 [==============================] - 2s 5ms/step - loss: 0.7947 - accuracy: 0.6250 - val_loss: 0.7966 - val_accuracy: 0.6226\n",
      "Epoch 78/100\n",
      "383/383 [==============================] - 2s 5ms/step - loss: 0.7958 - accuracy: 0.6248 - val_loss: 0.7683 - val_accuracy: 0.6367\n",
      "Epoch 79/100\n",
      "383/383 [==============================] - 2s 5ms/step - loss: 0.7920 - accuracy: 0.6267 - val_loss: 0.7472 - val_accuracy: 0.6475\n",
      "Epoch 80/100\n",
      "383/383 [==============================] - 2s 5ms/step - loss: 0.7940 - accuracy: 0.6276 - val_loss: 0.7695 - val_accuracy: 0.6364\n",
      "Epoch 81/100\n",
      "383/383 [==============================] - 2s 5ms/step - loss: 0.7898 - accuracy: 0.6312 - val_loss: 0.7537 - val_accuracy: 0.6377\n",
      "Epoch 82/100\n",
      "383/383 [==============================] - 2s 5ms/step - loss: 0.7874 - accuracy: 0.6315 - val_loss: 0.7558 - val_accuracy: 0.6403\n"
     ]
    }
   ],
   "source": [
    "history = smart_player.fit(train, epochs = 100, validation_data = valid, callbacks = [early_stopping])"
   ]
  },
  {
   "cell_type": "code",
   "execution_count": 279,
   "metadata": {},
   "outputs": [],
   "source": [
    "smart_player.save('smart_player2.h5')"
   ]
  },
  {
   "cell_type": "code",
   "execution_count": 6,
   "metadata": {},
   "outputs": [],
   "source": [
    "smart_player =  tf.keras.models.load_model('smart_player2.h5')"
   ]
  },
  {
   "cell_type": "code",
   "execution_count": 7,
   "metadata": {},
   "outputs": [],
   "source": [
    "\"\"\"Random player\"\"\"\n",
    "def random_player(board, turn, _):\n",
    "    rows, cols = np.where(board == 0)\n",
    "    possible_moves = np.concatenate((rows.reshape(-1,1), cols.reshape(-1,1)), axis = 1)\n",
    "    [move] = np.random.randint(0, possible_moves.shape[0], 1)\n",
    "    board[possible_moves[move][0]][possible_moves[move][1]] = turn"
   ]
  },
  {
   "cell_type": "code",
   "execution_count": 8,
   "metadata": {},
   "outputs": [],
   "source": [
    "\"\"\"Smart player using pretrained model\"\"\"\n",
    "def smart_player_func(board, turn, model):\n",
    "    rows, cols = np.where(board == 0)\n",
    "    possible_moves = np.concatenate((rows.reshape(-1,1), cols.reshape(-1,1)), axis = 1)\n",
    "    proba = []\n",
    "    \n",
    "    for i in range(len(possible_moves)):\n",
    "        temp_board = np.array([copy.deepcopy(board).tolist()])\n",
    "        temp_board[0][possible_moves[i][0]][possible_moves[i][1]] = turn\n",
    "        proba.append(model.predict_proba(temp_board))\n",
    "    proba = np.vstack(proba)\n",
    "    formula = proba[:, turn+1] - proba[:, -turn+1]\n",
    "    best = np.argmax(formula)\n",
    "    if formula[best] < 0.13:\n",
    "        best = np.argmax(proba[:, 1])\n",
    "    board[possible_moves[best][0]][possible_moves[best][1]] = turn\n",
    "#smart_player_func(np.zeros(shape = (3,3)), -1, smart_player)"
   ]
  },
  {
   "cell_type": "code",
   "execution_count": 14,
   "metadata": {},
   "outputs": [],
   "source": [
    "from collections import Counter\n",
    "def game(rounds = 1, turn = None, smart = 1, player1 = smart_player_func, player2 = random_player, model = smart_player):\n",
    "    score_board = []\n",
    "    for _ in range(rounds):\n",
    "        board = np.zeros(shape = (3,3))\n",
    "        \n",
    "        if turn is None:\n",
    "            turn = -1 if np.random.randint(0,2) == 0 else 1\n",
    "        \n",
    "        winer = 0\n",
    "        rows, cols = np.where(board == 0)\n",
    "        possible_moves = np.concatenate((rows.reshape(-1,1), cols.reshape(-1,1)), axis = 1)\n",
    "        while possible_moves.shape[0] != 0:\n",
    "            \n",
    "            if turn == smart:\n",
    "                player1(board, turn, model)\n",
    "            else:\n",
    "                player2(board, turn, model)\n",
    "            \n",
    "            winner = check_board(copy.deepcopy(board))\n",
    "            if winner != 0:\n",
    "                break\n",
    "            turn = -turn\n",
    "            rows, cols = np.where(board == 0)\n",
    "            possible_moves = np.concatenate((rows.reshape(-1,1), cols.reshape(-1,1)), axis = 1)\n",
    "            \n",
    "        score_board.append(winner)\n",
    "    score = Counter(score_board)\n",
    "    print('Win: '+ str(np.round(score[smart] / rounds * 100, 2)) + '%')\n",
    "    print('Lose: '+ str(np.round(score[-smart] / rounds  * 100, 2)) + '%')\n",
    "    print('Defeat: '+ str(np.round(score[0] / rounds * 100, 2)) + '%')\n",
    "    "
   ]
  },
  {
   "cell_type": "code",
   "execution_count": 15,
   "metadata": {},
   "outputs": [
    {
     "name": "stdout",
     "output_type": "stream",
     "text": [
      "Win: 97.6%\n",
      "Lose: 1.4%\n",
      "Defeat: 1.0%\n"
     ]
    }
   ],
   "source": [
    "game(rounds = 500, turn = 1, smart = 1, model = smart_player)"
   ]
  },
  {
   "cell_type": "code",
   "execution_count": 16,
   "metadata": {},
   "outputs": [
    {
     "name": "stdout",
     "output_type": "stream",
     "text": [
      "Win: 98.4%\n",
      "Lose: 0.6%\n",
      "Defeat: 1.0%\n"
     ]
    }
   ],
   "source": [
    "game(rounds = 500, turn = -1, smart = 1, model = smart_player)"
   ]
  },
  {
   "cell_type": "code",
   "execution_count": null,
   "metadata": {},
   "outputs": [],
   "source": []
  }
 ],
 "metadata": {
  "kernelspec": {
   "display_name": "Python 3",
   "language": "python",
   "name": "python3"
  },
  "language_info": {
   "codemirror_mode": {
    "name": "ipython",
    "version": 3
   },
   "file_extension": ".py",
   "mimetype": "text/x-python",
   "name": "python",
   "nbconvert_exporter": "python",
   "pygments_lexer": "ipython3",
   "version": "3.6.8"
  }
 },
 "nbformat": 4,
 "nbformat_minor": 4
}
